{
 "metadata": {
  "name": "",
  "signature": "sha256:512cd6801ee7e04895067dbf9f99251180725c527384abd7bc54d89751ffd52e"
 },
 "nbformat": 3,
 "nbformat_minor": 0,
 "worksheets": [
  {
   "cells": [
    {
     "cell_type": "markdown",
     "metadata": {},
     "source": [
      "#Classifying light curves using Random Forest"
     ]
    },
    {
     "cell_type": "markdown",
     "metadata": {},
     "source": [
      "This is an example of how you might use RF to classify light curves. This is just a toy problem, designed to test the concept. This code was written by Ruth Angus, Yutong Shan and Ashley Villar during today's Exolab hack session."
     ]
    },
    {
     "cell_type": "markdown",
     "metadata": {},
     "source": [
      "We use light curves as instances (or samples) and variance, total range and negative-range as features."
     ]
    },
    {
     "cell_type": "code",
     "collapsed": false,
     "input": [
      "%matplotlib inline\n",
      "import pylab\n",
      "pylab.rcParams['figure.figsize'] = (20.0, 15.0)\n",
      "import matplotlib.pyplot as plt\n",
      "import pyfits"
     ],
     "language": "python",
     "metadata": {},
     "outputs": [],
     "prompt_number": 85
    },
    {
     "cell_type": "markdown",
     "metadata": {},
     "source": [
      "Load the light curves and calculate the feature values..."
     ]
    },
    {
     "cell_type": "code",
     "collapsed": false,
     "input": [
      "DIR1 = \"/Users/angusr/.kplr/data/lightcurves\"\n",
      "DIR2 = \"/Users/angusr/angusr/data2/Q3_public\"\n",
      "\n",
      "# load data\n",
      "lc_files = ['%s/011446443/kplr011446443-2010009091648_llc.fits' % DIR1, # EB\n",
      "            '%s/kplr010019747-2009350155506_llc.fits' % DIR2,           # non-EB\n",
      "            '%s/008949247/kplr008949247-2010265121752_llc.fits' % DIR1, # EB\n",
      "            '%s/005184732/kplr005184732-2010265121752_llc.fits' % DIR1] # non-EB\n",
      "\n",
      "variances, ranges, mm = [], [], []\n",
      "pltpos = [(0, 0), (0, 1), (1, 0), (1, 1)]\n",
      "for i, lc_file in enumerate(lc_files):\n",
      "    hdulist = pyfits.open(lc_file)\n",
      "    tbdata = hdulist[1].data\n",
      "    x = tbdata[\"TIME\"]\n",
      "    y = tbdata[\"PDCSAP_FLUX\"]\n",
      "    yerr = tbdata[\"PDCSAP_FLUX_ERR\"]\n",
      "    q = tbdata[\"SAP_QUALITY\"]\n",
      "    n = np.isfinite(x)*np.isfinite(y)*np.isfinite(yerr)*(q==0)\n",
      "    med = np.median(y[n])\n",
      "    x, y, yerr = x[n], y[n]/med, yerr[n]/med\n",
      "    variances.append(np.var(y))\n",
      "    ranges.append(max(y)-min(y))\n",
      "    mm.append(np.mean(y)-min(y))\n",
      "    ax2 = plt.subplot2grid((4,4), pltpos[i])\n",
      "    plt.subplots_adjust(hspace = 0., wspace = 0)\n",
      "    plt.gca().axes.get_xaxis().set_ticks([])\n",
      "    plt.gca().axes.get_yaxis().set_ticks([])\n",
      "    plt.ylim(1-0.03, 1.01)\n",
      "    plt.plot(x, y, 'k.')\n",
      "    \n",
      "print 'Variances = ', variances\n",
      "print 'Ranges = ', ranges\n",
      "print 'Mean - minimum = ', mm"
     ],
     "language": "python",
     "metadata": {},
     "outputs": [
      {
       "output_type": "stream",
       "stream": "stdout",
       "text": [
        "Variances =  [2.0923371e-06, 5.5177098e-09, 1.4649155e-05, 1.0464026e-08]\n",
        "Ranges =  [0.016341031, 0.00061452389, 0.064016044, 0.00062918663]\n",
        "Mean - minimum =  [0.013902605, 0.00028133392, 0.061833024, 0.00028175116]\n"
       ]
      },
      {
       "metadata": {},
       "output_type": "display_data",
       "png": "[encoded data removed]",
       "text": [
        "<matplotlib.figure.Figure at 0x10efaf090>"
       ]
      }
     ],
     "prompt_number": 118
    },
    {
     "cell_type": "markdown",
     "metadata": {},
     "source": [
      "Set up random forest classifier"
     ]
    },
    {
     "cell_type": "code",
     "collapsed": false,
     "input": [
      "features = np.vstack((np.array(variances), np.array(ranges), np.array(mm))).T\n",
      "clf = RandomForestClassifier()"
     ],
     "language": "python",
     "metadata": {},
     "outputs": [],
     "prompt_number": 119
    },
    {
     "cell_type": "markdown",
     "metadata": {},
     "source": [
      "Train on the first EB and the first non-EB"
     ]
    },
    {
     "cell_type": "code",
     "collapsed": false,
     "input": [
      "labels = ['EB', 'non-EB', 'EB', 'non-EB']\n",
      "clf.fit(features[:2, :], labels[:2])"
     ],
     "language": "python",
     "metadata": {},
     "outputs": [
      {
       "metadata": {},
       "output_type": "pyout",
       "prompt_number": 120,
       "text": [
        "RandomForestClassifier(bootstrap=True, compute_importances=None,\n",
        "            criterion='gini', max_depth=None, max_features='auto',\n",
        "            min_density=None, min_samples_leaf=1, min_samples_split=2,\n",
        "            n_estimators=10, n_jobs=1, oob_score=False, random_state=None,\n",
        "            verbose=0)"
       ]
      }
     ],
     "prompt_number": 120
    },
    {
     "cell_type": "markdown",
     "metadata": {},
     "source": [
      "Test on the second EB and the second non-EB"
     ]
    },
    {
     "cell_type": "code",
     "collapsed": false,
     "input": [
      "preds = clf.predict(features[2:, :])\n",
      "print 'Truth = ', labels[2:], ', prediction = ', preds"
     ],
     "language": "python",
     "metadata": {},
     "outputs": [
      {
       "output_type": "stream",
       "stream": "stdout",
       "text": [
        "Truth =  ['EB', 'non-EB'] , prediction =  ['EB' 'non-EB']\n"
       ]
      }
     ],
     "prompt_number": 121
    },
    {
     "cell_type": "code",
     "collapsed": false,
     "input": [],
     "language": "python",
     "metadata": {},
     "outputs": []
    }
   ],
   "metadata": {}
  }
 ]
}